{
 "cells": [
  {
   "cell_type": "code",
   "execution_count": 1,
   "metadata": {
    "collapsed": false
   },
   "outputs": [
    {
     "name": "stdout",
     "output_type": "stream",
     "text": [
      "The history saving thread hit an unexpected error (DatabaseError('database disk image is malformed',)).History will not be written to the database.\n"
     ]
    }
   ],
   "source": [
    "import sklearn\n",
    "from sklearn import linear_model\n",
    "import pandas as pd\n",
    "%matplotlib inline"
   ]
  },
  {
   "cell_type": "code",
   "execution_count": 2,
   "metadata": {
    "collapsed": true
   },
   "outputs": [],
   "source": [
    "data=pd.read_csv(\"d:\\\\insurance.csv\")"
   ]
  },
  {
   "cell_type": "code",
   "execution_count": 4,
   "metadata": {
    "collapsed": false
   },
   "outputs": [],
   "source": [
    "labelY=data.iloc[:,-1]\n",
    "traindataraw=data.iloc[:,:len(data.columns)-1]"
   ]
  },
  {
   "cell_type": "code",
   "execution_count": 5,
   "metadata": {
    "collapsed": true
   },
   "outputs": [],
   "source": [
    "traindata=pd.get_dummies(traindataraw)"
   ]
  },
  {
   "cell_type": "code",
   "execution_count": 6,
   "metadata": {
    "collapsed": true
   },
   "outputs": [],
   "source": [
    "from sklearn.model_selection import train_test_split\n",
    "train,test,trainlabel,testlabel=train_test_split(traindata,labelY,test_size=0.2)"
   ]
  },
  {
   "cell_type": "code",
   "execution_count": 7,
   "metadata": {
    "collapsed": true
   },
   "outputs": [],
   "source": [
    "lm=linear_model.LinearRegression()"
   ]
  },
  {
   "cell_type": "code",
   "execution_count": 8,
   "metadata": {
    "collapsed": true
   },
   "outputs": [],
   "source": [
    "lmmodel=lm.fit(train,trainlabel)"
   ]
  },
  {
   "cell_type": "code",
   "execution_count": 9,
   "metadata": {
    "collapsed": false
   },
   "outputs": [
    {
     "name": "stdout",
     "output_type": "stream",
     "text": [
      "权重和截距为： [   257.73919176    319.63932377    474.81691914    215.64857631\n",
      "   -215.64857631 -12106.86306047  12106.86306047    283.37798237\n",
      "    330.21865547   -339.86589155   -273.73074629] 84.5463025578\n"
     ]
    }
   ],
   "source": [
    "print('权重和截距为：',lmmodel.coef_,lmmodel.intercept_)"
   ]
  },
  {
   "cell_type": "code",
   "execution_count": 10,
   "metadata": {
    "collapsed": true
   },
   "outputs": [],
   "source": [
    "predy=lmmodel.predict(test)"
   ]
  },
  {
   "cell_type": "code",
   "execution_count": 14,
   "metadata": {
    "collapsed": false
   },
   "outputs": [
    {
     "data": {
      "text/plain": [
       "0.73875306200891266"
      ]
     },
     "execution_count": 14,
     "metadata": {},
     "output_type": "execute_result"
    }
   ],
   "source": [
    "lmmodel.score(test,testlabel)"
   ]
  },
  {
   "cell_type": "markdown",
   "metadata": {},
   "source": [
    "## sklearn 模型默认评分、度量评分接口"
   ]
  },
  {
   "cell_type": "code",
   "execution_count": 15,
   "metadata": {
    "collapsed": true
   },
   "outputs": [],
   "source": [
    "from sklearn.metrics import r2_score\n",
    "from sklearn.metrics import mean_absolute_error\n",
    "from sklearn.metrics import mean_squared_error"
   ]
  },
  {
   "cell_type": "code",
   "execution_count": 16,
   "metadata": {
    "collapsed": false
   },
   "outputs": [
    {
     "name": "stdout",
     "output_type": "stream",
     "text": [
      "r2: 0.738753062009\n"
     ]
    }
   ],
   "source": [
    "print('r2:',r2_score(testlabel,predy))"
   ]
  },
  {
   "cell_type": "code",
   "execution_count": 18,
   "metadata": {
    "collapsed": false
   },
   "outputs": [
    {
     "name": "stdout",
     "output_type": "stream",
     "text": [
      "mean_absolute_error: 4155.22759792\n"
     ]
    }
   ],
   "source": [
    "print('mean_absolute_error:',mean_absolute_error(testlabel,predy))"
   ]
  },
  {
   "cell_type": "code",
   "execution_count": 20,
   "metadata": {
    "collapsed": false
   },
   "outputs": [
    {
     "name": "stdout",
     "output_type": "stream",
     "text": [
      "mean_squared_error: 35296311.0871\n"
     ]
    }
   ],
   "source": [
    "print('mean_squared_error:',mean_squared_error(testlabel,predy))"
   ]
  },
  {
   "cell_type": "markdown",
   "metadata": {},
   "source": [
    "## sklearn 实现CART树"
   ]
  },
  {
   "cell_type": "code",
   "execution_count": 22,
   "metadata": {
    "collapsed": false
   },
   "outputs": [
    {
     "name": "stdout",
     "output_type": "stream",
     "text": [
      "r2: 0.655988222861\n",
      "mean_absolute_error: 3326.47254722\n",
      "mean_squared_error: 46478426.8743\n"
     ]
    }
   ],
   "source": [
    "#CART回归树\n",
    "from sklearn import tree\n",
    "tlm=tree.DecisionTreeRegressor(max_depth=10)\n",
    "tlmmodel=tlm.fit(train,trainlabel)\n",
    "predy=tlmmodel.predict(test)\n",
    "print('r2:',r2_score(testlabel,predy))\n",
    "print('mean_absolute_error:',mean_absolute_error(testlabel,predy))\n",
    "print('mean_squared_error:',mean_squared_error(testlabel,predy))"
   ]
  },
  {
   "cell_type": "markdown",
   "metadata": {},
   "source": [
    "## sklearn 实现SVM回归 SVR"
   ]
  },
  {
   "cell_type": "code",
   "execution_count": 23,
   "metadata": {
    "collapsed": false
   },
   "outputs": [
    {
     "name": "stdout",
     "output_type": "stream",
     "text": [
      "r2: 0.607283112751\n",
      "mean_absolute_error: 3639.26937922\n",
      "mean_squared_error: 53058832.1077\n"
     ]
    }
   ],
   "source": [
    "#SVM SVR\n",
    "from sklearn import svm\n",
    "slm=svm.LinearSVR(C=1000)\n",
    "svmmodel=slm.fit(train,trainlabel)\n",
    "predy=svmmodel.predict(test)\n",
    "print('r2:',r2_score(testlabel,predy))\n",
    "print('mean_absolute_error:',mean_absolute_error(testlabel,predy))\n",
    "print('mean_squared_error:',mean_squared_error(testlabel,predy))"
   ]
  }
 ],
 "metadata": {
  "anaconda-cloud": {},
  "kernelspec": {
   "display_name": "Python [default]",
   "language": "python",
   "name": "python3"
  },
  "language_info": {
   "codemirror_mode": {
    "name": "ipython",
    "version": 3
   },
   "file_extension": ".py",
   "mimetype": "text/x-python",
   "name": "python",
   "nbconvert_exporter": "python",
   "pygments_lexer": "ipython3",
   "version": "3.5.2"
  }
 },
 "nbformat": 4,
 "nbformat_minor": 1
}
