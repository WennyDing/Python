{
 "cells": [
  {
   "cell_type": "markdown",
   "metadata": {},
   "source": [
    "## 函数Functions"
   ]
  },
  {
   "cell_type": "code",
   "execution_count": 1,
   "metadata": {
    "collapsed": false
   },
   "outputs": [
    {
     "name": "stdout",
     "output_type": "stream",
     "text": [
      "Hello Python!\n",
      "The history saving thread hit an unexpected error (DatabaseError('database disk image is malformed',)).History will not be written to the database.\n"
     ]
    }
   ],
   "source": [
    "def say_hello():\n",
    "    return \"Hello Python!\"\n",
    "\n",
    "print(say_hello())"
   ]
  },
  {
   "cell_type": "markdown",
   "metadata": {},
   "source": [
    "### 在函数定义的第一行\n",
    "必须以def （小写）开始。\n",
    "在 def 后面，必须给出函数名。\n",
    "接下来是括号，里面包含所需的参数。\n",
    "该行必须以冒号：结尾。\n",
    "\n",
    "在函数的主体中\n",
    "函数的每一行必须缩进。\n",
    "如果想让函数输出结果，必须使用return语句结束。"
   ]
  },
  {
   "cell_type": "markdown",
   "metadata": {},
   "source": [
    "## 函数2 Function"
   ]
  },
  {
   "cell_type": "code",
   "execution_count": 2,
   "metadata": {
    "collapsed": false
   },
   "outputs": [
    {
     "name": "stdout",
     "output_type": "stream",
     "text": [
      "Hello Wenny!\n",
      "Hello Python!\n"
     ]
    }
   ],
   "source": [
    "def hello2(name):\n",
    "    greeting=\"Hello \"+ name+\"!\"\n",
    "    return greeting\n",
    "\n",
    "print(hello2(\"Wenny\"))\n",
    "print(hello2(\"Python\"))"
   ]
  },
  {
   "cell_type": "markdown",
   "metadata": {},
   "source": [
    "## 流程控制if"
   ]
  },
  {
   "cell_type": "code",
   "execution_count": 5,
   "metadata": {
    "collapsed": false
   },
   "outputs": [
    {
     "name": "stdout",
     "output_type": "stream",
     "text": [
      "8\n"
     ]
    }
   ],
   "source": [
    "def getGreateValue(a,b):\n",
    "    if (a>b):\n",
    "        return a\n",
    "    else:\n",
    "        return b\n",
    "    \n",
    "print(getGreateValue(8,7))"
   ]
  },
  {
   "cell_type": "markdown",
   "metadata": {},
   "source": [
    "    if expression1:\n",
    "     statement(s)\n",
    "    elif expression2:\n",
    "     statement(s)\n",
    "    elif expression3:\n",
    "      statement(s)\n",
    "    else:\n",
    "      statement(s)"
   ]
  },
  {
   "cell_type": "markdown",
   "metadata": {},
   "source": [
    "## 流程控制while循环"
   ]
  },
  {
   "cell_type": "code",
   "execution_count": 6,
   "metadata": {
    "collapsed": false
   },
   "outputs": [
    {
     "name": "stdout",
     "output_type": "stream",
     "text": [
      "1\n",
      "2\n",
      "3\n",
      "4\n",
      "5\n",
      "6\n",
      "7\n",
      "8\n",
      "9\n",
      "10\n"
     ]
    }
   ],
   "source": [
    "i=0\n",
    "while i !=10:\n",
    "    i=i+1\n",
    "    print(i)"
   ]
  }
 ],
 "metadata": {
  "anaconda-cloud": {},
  "kernelspec": {
   "display_name": "Python [default]",
   "language": "python",
   "name": "python3"
  },
  "language_info": {
   "codemirror_mode": {
    "name": "ipython",
    "version": 3
   },
   "file_extension": ".py",
   "mimetype": "text/x-python",
   "name": "python",
   "nbconvert_exporter": "python",
   "pygments_lexer": "ipython3",
   "version": "3.5.2"
  }
 },
 "nbformat": 4,
 "nbformat_minor": 1
}
